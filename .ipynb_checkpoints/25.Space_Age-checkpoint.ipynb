{
 "cells": [
  {
   "cell_type": "markdown",
   "id": "8103c981",
   "metadata": {},
   "source": [
    "Given an age in seconds, calculate how old someone would be on:\n",
    "\n",
    "   - Earth: orbital period 365.25 Earth days, or 31557600 seconds\n",
    "   - Mercury: orbital period 0.2408467 Earth years\n",
    "   - Venus: orbital period 0.61519726 Earth years\n",
    "   - Mars: orbital period 1.8808158 Earth years\n",
    "   - Jupiter: orbital period 11.862615 Earth years\n",
    "   - Saturn: orbital period 29.447498 Earth years\n",
    "   - Uranus: orbital period 84.016846 Earth years\n",
    "   - Neptune: orbital period 164.79132 Earth years\n",
    "\n",
    "So if you were told someone were 1,000,000,000 seconds old, you should\n",
    "be able to say that they're 31 Earth-years old.\n",
    "\n",
    "If you're wondering why Pluto didn't make the cut, go watch [this\n",
    "youtube video](http://www.youtube.com/watch?v=Z_2gbGXzFbs).\n",
    "\n",
    "Sometimes it is necessary to raise an exception. When you do this, you should include a meaningful error message to indicate what the source of the error is. This makes your code more readable and helps significantly with debugging. Not every exercise will require you to raise an exception, but for those that do, the tests will only pass if you include a message.\n",
    "\n",
    "To raise a message with an exception, just write it as an argument to the exception type. For example, instead of raise Exception, you should write:\n",
    "\n",
    "raise Exception(\"Meaningful message indicating the source of the error\")\n"
   ]
  },
  {
   "cell_type": "code",
   "execution_count": 11,
   "id": "186c95c6",
   "metadata": {},
   "outputs": [
    {
     "name": "stdout",
     "output_type": "stream",
     "text": [
      "2.41\n",
      "260.16\n",
      "1.58\n"
     ]
    }
   ],
   "source": [
    "#in space_age file create SpaceAge function\n",
    "\n",
    "class SpaceAge:\n",
    "    def __init__(self, seconds):\n",
    "        self.seconds = seconds\n",
    "        pass\n",
    "\n",
    "    def seconds_to_years(self):\n",
    "        return self.seconds/(60*60*24*365.25) #Calculate seconds to years\n",
    "\n",
    "    def calc_years(self, earth_years):\n",
    "        return self.seconds_to_years()/earth_years #Base \n",
    "    \n",
    "    def on_earth(self):\n",
    "        years = self.seconds_to_years()\n",
    "        return round(years, 2)\n",
    "\n",
    "    def on_mercury(self):\n",
    "        years = self.calc_years(0.2408467)\n",
    "        return round(years, 2)\n",
    "\n",
    "    def on_venus(self):\n",
    "        years = self.calc_years(0.61519726)\n",
    "        return round(years, 2)\n",
    "\n",
    "    def on_mars(self):\n",
    "        years = self.calc_years(1.8808158)\n",
    "        return round(years, 2)\n",
    "\n",
    "    def on_jupiter(self):\n",
    "        years = self.calc_years(11.862615)\n",
    "        return round(years, 2)\n",
    "\n",
    "    def on_saturn(self):\n",
    "        years = self.calc_years(29.447498)\n",
    "        return round(years, 2)\n",
    "\n",
    "    def on_uranus(self):\n",
    "        years = self.calc_years(84.016846)\n",
    "        return round(years, 2)\n",
    "\n",
    "    def on_neptune(self):\n",
    "        years = self.calc_years(164.79132)\n",
    "        return round(years, 2)\n",
    "\n",
    "age = SpaceAge(901876382)\n",
    "age_on_Jupyter = age.on_jupiter()\n",
    "print(age_on_Jupyter) \n",
    "\n",
    "\n",
    "age = SpaceAge(8210123456)\n",
    "age_on_Earth = age.on_earth()\n",
    "age_on_Neptune = age.on_neptune()\n",
    "print(age_on_Earth)\n",
    "print(age_on_Neptune)"
   ]
  },
  {
   "cell_type": "code",
   "execution_count": 4,
   "id": "1dd3a133",
   "metadata": {},
   "outputs": [
    {
     "name": "stderr",
     "output_type": "stream",
     "text": [
      "test_age_in_earth_years (__main__.SpaceAgeTest) ... ok\n",
      "test_age_in_mercury_years (__main__.SpaceAgeTest) ... ok\n",
      "test_age_in_seconds (__main__.SpaceAgeTest) ... ok\n",
      "test_age_in_venus_years (__main__.SpaceAgeTest) ... ok\n",
      "test_age_on_jupiter (__main__.SpaceAgeTest) ... ok\n",
      "test_age_on_mars (__main__.SpaceAgeTest) ... ok\n",
      "test_age_on_neptune (__main__.SpaceAgeTest) ... ok\n",
      "test_age_on_saturn (__main__.SpaceAgeTest) ... ok\n",
      "test_age_on_uranus (__main__.SpaceAgeTest) ... ok\n",
      "\n",
      "----------------------------------------------------------------------\n",
      "Ran 9 tests in 0.194s\n",
      "\n",
      "OK\n"
     ]
    },
    {
     "data": {
      "text/plain": [
       "<unittest.main.TestProgram at 0x7fe6aca82be0>"
      ]
     },
     "execution_count": 4,
     "metadata": {},
     "output_type": "execute_result"
    }
   ],
   "source": [
    "# -*- coding: utf-8 -*-\n",
    "import unittest\n",
    "\n",
    "#from space_age import SpaceAge\n",
    "\n",
    "\n",
    "class SpaceAgeTest(unittest.TestCase):\n",
    "    def test_age_in_seconds(self):\n",
    "        age = SpaceAge(1e6)\n",
    "        self.assertEqual(1e6, age.seconds)\n",
    "\n",
    "    def test_age_in_earth_years(self):\n",
    "        age = SpaceAge(1e9)\n",
    "        self.assertEqual(31.69, age.on_earth())\n",
    "\n",
    "    def test_age_in_mercury_years(self):\n",
    "        age = SpaceAge(2134835688)\n",
    "        self.assertEqual(67.65, age.on_earth())\n",
    "        self.assertEqual(280.88, age.on_mercury())\n",
    "\n",
    "    def test_age_in_venus_years(self):\n",
    "        age = SpaceAge(189839836)\n",
    "        self.assertEqual(6.02, age.on_earth())\n",
    "        self.assertEqual(9.78, age.on_venus())\n",
    "\n",
    "    def test_age_on_mars(self):\n",
    "        age = SpaceAge(2329871239)\n",
    "        self.assertEqual(73.83, age.on_earth())\n",
    "        self.assertEqual(39.25, age.on_mars())\n",
    "\n",
    "    def test_age_on_jupiter(self):\n",
    "        age = SpaceAge(901876382)\n",
    "        self.assertEqual(28.58, age.on_earth())\n",
    "        self.assertEqual(2.41, age.on_jupiter())\n",
    "\n",
    "    def test_age_on_saturn(self):\n",
    "        age = SpaceAge(3e9)\n",
    "        self.assertEqual(95.06, age.on_earth())\n",
    "        self.assertEqual(3.23, age.on_saturn())\n",
    "\n",
    "    def test_age_on_uranus(self):\n",
    "        age = SpaceAge(3210123456)\n",
    "        self.assertEqual(101.72, age.on_earth())\n",
    "        self.assertEqual(1.21, age.on_uranus())\n",
    "\n",
    "    def test_age_on_neptune(self):\n",
    "        age = SpaceAge(8210123456)\n",
    "        self.assertEqual(260.16, age.on_earth())\n",
    "        self.assertEqual(1.58, age.on_neptune())\n",
    "\n",
    "\n",
    "unittest.main(argv=[''], verbosity=2, exit=False)\n",
    "\n"
   ]
  },
  {
   "cell_type": "markdown",
   "id": "d84d19cd",
   "metadata": {},
   "source": [
    "To run the tests, run pytest space_age_test.py\n",
    "\n",
    "Alternatively, you can tell Python to run the pytest module: python -m pytest space_age_test.py\n",
    "\n"
   ]
  }
 ],
 "metadata": {
  "kernelspec": {
   "display_name": "Python 3",
   "language": "python",
   "name": "python3"
  },
  "language_info": {
   "codemirror_mode": {
    "name": "ipython",
    "version": 3
   },
   "file_extension": ".py",
   "mimetype": "text/x-python",
   "name": "python",
   "nbconvert_exporter": "python",
   "pygments_lexer": "ipython3",
   "version": "3.8.8"
  }
 },
 "nbformat": 4,
 "nbformat_minor": 5
}
