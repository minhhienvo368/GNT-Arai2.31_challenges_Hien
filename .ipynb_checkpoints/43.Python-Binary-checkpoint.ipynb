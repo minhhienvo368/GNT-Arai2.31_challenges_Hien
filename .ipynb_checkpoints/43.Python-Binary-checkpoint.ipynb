{
 "cells": [
  {
   "cell_type": "markdown",
   "id": "08b270f8",
   "metadata": {},
   "source": [
    "Implement binary to decimal conversion. Given a binary input\n",
    "string, your program should produce a decimal output. The\n",
    "program should handle invalid inputs.\n",
    "\n",
    "- Implement the conversion yourself.\n",
    "  Do not use something else to perform the conversion for you.\n",
    "\n",
    "## About Binary (Base-2)\n",
    "Decimal is a base-10 system.\n",
    "\n",
    "A number 23 in base 10 notation can be understood\n",
    "as a linear combination of powers of 10:\n",
    "\n",
    "- The rightmost digit gets multiplied by 10^0 = 1\n",
    "- The next number gets multiplied by 10^1 = 10\n",
    "- ...\n",
    "- The *n*th number gets multiplied by 10^*(n-1)*.\n",
    "- All these values are summed.\n",
    "\n",
    "So: `23 => 2*10^1 + 3*10^0 => 2*10 + 3*1 = 23 base 10`\n",
    "\n",
    "Binary is similar, but uses powers of 2 rather than powers of 10.\n",
    "\n",
    "So: `101 => 1*2^2 + 0*2^1 + 1*2^0 => 1*4 + 0*2 + 1*1 => 4 + 1 => 5 base 10`.\n",
    " "
   ]
  },
  {
   "cell_type": "code",
   "execution_count": 9,
   "id": "52a47fc0",
   "metadata": {},
   "outputs": [
    {
     "data": {
      "text/plain": [
       "26"
      ]
     },
     "execution_count": 9,
     "metadata": {},
     "output_type": "execute_result"
    }
   ],
   "source": [
    "def notBinary(digits: str) -> bool:\n",
    "    # check if digits is not a binary string, return True\n",
    "    return any(digit not in ['0', '1'] for digit in digits)\n",
    "\n",
    "\n",
    "def parse_binary(digits: str) -> int:\n",
    "    # get a binary string, return a decimal, interger value \n",
    "    # exception if invalid string\n",
    "    if notBinary(digits):\n",
    "        raise ValueError(\"Not all binary digits in '\", digits, \"'\")\n",
    "    else:                       # OK - calculate sum of powers of 2\n",
    "        return sum(pow(2, (len(digits) - 1 - i)) \n",
    "                   for i, digit in enumerate(digits)\n",
    "                   if (digit == '1'))\n",
    "        \n",
    "        #example: 101 => 1*2^2 + 0*2^1 + 1*2^0 => 1*4 + 0*2 + 1*1 => 4 + 1 => 5\n",
    "\n",
    "    \n",
    "#parse_binary('10')\n",
    "parse_binary(\"11010\")"
   ]
  },
  {
   "cell_type": "code",
   "execution_count": 10,
   "id": "9984ab7d",
   "metadata": {},
   "outputs": [
    {
     "name": "stderr",
     "output_type": "stream",
     "text": [
      "test_binary_10001101000_is_decimal_1128 (__main__.BinaryTests) ... ok\n",
      "test_binary_1001_is_decimal_9 (__main__.BinaryTests) ... ok\n",
      "test_binary_100_is_decimal_4 (__main__.BinaryTests) ... ok\n",
      "test_binary_10_is_decimal_2 (__main__.BinaryTests) ... ok\n",
      "test_binary_11010_is_decimal_26 (__main__.BinaryTests) ... ok\n",
      "test_binary_11_is_decimal_3 (__main__.BinaryTests) ... ok\n",
      "test_binary_1_is_decimal_1 (__main__.BinaryTests) ... ok\n",
      "test_invalid_binary_number_not_base2 (__main__.BinaryTests) ... ok\n",
      "test_invalid_binary_numbers_with_text (__main__.BinaryTests) ... ok\n",
      "test_invalid_binary_text_only (__main__.BinaryTests) ... ok\n",
      "test_invalid_binary_text_with_numbers (__main__.BinaryTests) ... ok\n",
      "\n",
      "----------------------------------------------------------------------\n",
      "Ran 11 tests in 0.017s\n",
      "\n",
      "OK\n"
     ]
    },
    {
     "data": {
      "text/plain": [
       "<unittest.main.TestProgram at 0x7fb4c7c98f70>"
      ]
     },
     "execution_count": 10,
     "metadata": {},
     "output_type": "execute_result"
    }
   ],
   "source": [
    "\"\"\"Tests for the binary exercise\n",
    "\n",
    "Implementation note:\n",
    "If the argument to parse_binary isn't a valid binary number the\n",
    "function should raise a ValueError with a meaningful error message.\n",
    "\"\"\"\n",
    "import unittest\n",
    "\n",
    "\n",
    "class BinaryTests(unittest.TestCase):\n",
    "\n",
    "    def test_binary_1_is_decimal_1(self):\n",
    "        self.assertEqual(1, parse_binary(\"1\"))\n",
    "\n",
    "    def test_binary_10_is_decimal_2(self):\n",
    "        self.assertEqual(2, parse_binary(\"10\"))\n",
    "\n",
    "    def test_binary_11_is_decimal_3(self):\n",
    "        self.assertEqual(3, parse_binary(\"11\"))\n",
    "\n",
    "    def test_binary_100_is_decimal_4(self):\n",
    "        self.assertEqual(4, parse_binary(\"100\"))\n",
    "\n",
    "    def test_binary_1001_is_decimal_9(self):\n",
    "        self.assertEqual(9, parse_binary(\"1001\"))\n",
    "\n",
    "    def test_binary_11010_is_decimal_26(self):\n",
    "        self.assertEqual(26, parse_binary(\"11010\"))\n",
    "\n",
    "    def test_binary_10001101000_is_decimal_1128(self):\n",
    "        self.assertEqual(1128, parse_binary(\"10001101000\"))\n",
    "\n",
    "    def test_invalid_binary_text_only(self):\n",
    "        self.assertRaises(ValueError, parse_binary, \"carrot\")\n",
    "\n",
    "    def test_invalid_binary_number_not_base2(self):\n",
    "        self.assertRaises(ValueError, parse_binary, \"102011\")\n",
    "\n",
    "    def test_invalid_binary_numbers_with_text(self):\n",
    "        self.assertRaises(ValueError, parse_binary, \"10nope\")\n",
    "\n",
    "    def test_invalid_binary_text_with_numbers(self):\n",
    "        self.assertRaises(ValueError, parse_binary, \"nope10\")\n",
    "\n",
    "unittest.main(argv=[''], verbosity=2, exit=False)\n"
   ]
  },
  {
   "cell_type": "code",
   "execution_count": null,
   "id": "87531fa1",
   "metadata": {},
   "outputs": [],
   "source": []
  }
 ],
 "metadata": {
  "kernelspec": {
   "display_name": "Python 3",
   "language": "python",
   "name": "python3"
  },
  "language_info": {
   "codemirror_mode": {
    "name": "ipython",
    "version": 3
   },
   "file_extension": ".py",
   "mimetype": "text/x-python",
   "name": "python",
   "nbconvert_exporter": "python",
   "pygments_lexer": "ipython3",
   "version": "3.8.8"
  }
 },
 "nbformat": 4,
 "nbformat_minor": 5
}
