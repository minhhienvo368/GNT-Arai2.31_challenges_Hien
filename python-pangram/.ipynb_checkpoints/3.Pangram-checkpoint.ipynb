{
 "cells": [
  {
   "cell_type": "markdown",
   "id": "c4a628c6",
   "metadata": {},
   "source": [
    "Requirement: \"Determine if a sentence is a pangram.\"\n",
    "source: \"Wikipedia\"\n",
    "source_url: \"https://en.wikipedia.org/wiki/Pangram\"\n",
    "\n",
    "A pangram (Greek: παν γράμμα, pan gramma, \"every letter\") is a sentence using every letter of the alphabet at least once.\n",
    "The best known English pangram is \"The quick brown fox jumps over the lazy dog.\"\n",
    "\n",
    "Short pangrams in English are more difficult to devise and tend to use uncommon words. Longer pangrams may afford more opportunity for humor, cleverness, or thoughtfulness.[2]\n",
    "\n",
    "The following are examples of pangrams that are shorter than \"The quick brown fox jumps over a lazy dog\" (which has 33 letters) and use standard written English without abbreviations or proper nouns:\n",
    "\n",
    "\"Waltz, bad nymph, for quick jigs vex.\" (28 letters)\n",
    "\"Glib jocks quiz nymph to vex dwarf.\" (28 letters)\n",
    "\"Sphinx of black quartz, judge my vow.\" (29 letters)\n",
    "\"How vexingly quick daft zebras jump!\" (30 letters)\n",
    "\"The five boxing wizards jump quickly.\" (31 letters)\n",
    "\"Jackdaws love my big sphinx of quartz.\" (31 letters)\n",
    "\"Pack my box with five dozen liquor jugs.\" (32 letters)\n",
    "\n",
    "A perfect pangram contains every letter of the alphabet only once and can be considered an anagram of the alphabet. The only perfect pangrams of the English alphabet that are known either use abbreviations or other non-words, such as \"Mr Jock, TV quiz PhD, bags few lynx\" or \"Quickly Nez Ford, what's JPG BMX V?\"\n"
   ]
  },
  {
   "cell_type": "code",
   "execution_count": 6,
   "id": "a86b53c3",
   "metadata": {
    "scrolled": true
   },
   "outputs": [
    {
     "name": "stdout",
     "output_type": "stream",
     "text": [
      "the quick brown fox jumps over the lazy dog\n"
     ]
    },
    {
     "data": {
      "text/plain": [
       "True"
      ]
     },
     "execution_count": 6,
     "metadata": {},
     "output_type": "execute_result"
    }
   ],
   "source": [
    "import string\n",
    "import re\n",
    "\n",
    "def strip_punctuation(word: str) -> str:  #\n",
    "    exclude = set(string.punctuation)\n",
    "    word = ''.join(char for char in word if char not in exclude)\n",
    "    return word\n",
    "\n",
    "def is_pangram(text: str) -> bool:\n",
    "    text = re.sub('\"|', '', text)\n",
    "    print(text)\n",
    "    text = text.rstrip()\n",
    "    text = strip_punctuation(text.lower())\n",
    "    for char in string.ascii_lowercase:\n",
    "        if char not in text:\n",
    "            return False\n",
    "    return True\n",
    "is_pangram('the quick brown fox jumps over the lazy dog')\n",
    "#is_pangram(\" 'the quick brown fish jumps' \\n'over the lazy dog' \")"
   ]
  },
  {
   "cell_type": "code",
   "execution_count": 7,
   "id": "1dd3a133",
   "metadata": {},
   "outputs": [
    {
     "name": "stderr",
     "output_type": "stream",
     "text": [
      "test_empty_string (__main__.PangramTests) ... ok\n",
      "test_invalid_pangram (__main__.PangramTests) ... ok\n",
      "test_missing_x (__main__.PangramTests) ... ok\n",
      "test_mixedcase_and_punctuation (__main__.PangramTests) ... ok\n",
      "test_unchecked_german_umlaute (__main__.PangramTests) ... ok\n",
      "test_valid_pangram (__main__.PangramTests) ... "
     ]
    },
    {
     "name": "stdout",
     "output_type": "stream",
     "text": [
      "\n",
      "the quick brown fish jumps over the lazy dog\n",
      "a quick movement of the enemy will jeopardize five gunboats\n",
      "Five quacking Zephyrs jolt my wax bed.\n",
      "Victor jagt zwölf Boxkämpfer quer über den großen Sylter Deich.\n",
      "the quick brown fox jumps over the lazy dog\n"
     ]
    },
    {
     "name": "stderr",
     "output_type": "stream",
     "text": [
      "ok\n",
      "\n",
      "----------------------------------------------------------------------\n",
      "Ran 6 tests in 0.077s\n",
      "\n",
      "OK\n"
     ]
    },
    {
     "data": {
      "text/plain": [
       "<unittest.main.TestProgram at 0x7fa182c6e520>"
      ]
     },
     "execution_count": 7,
     "metadata": {},
     "output_type": "execute_result"
    }
   ],
   "source": [
    "# -*- coding: utf-8 -*-\n",
    "\n",
    "import unittest\n",
    "\n",
    "\n",
    "class PangramTests(unittest.TestCase):\n",
    "\n",
    "    def test_empty_string(self):\n",
    "        self.assertFalse(is_pangram(''))\n",
    "\n",
    "    def test_valid_pangram(self):\n",
    "        self.assertTrue(\n",
    "            is_pangram('the quick brown fox jumps over the lazy dog'))\n",
    "\n",
    "    def test_invalid_pangram(self):\n",
    "        self.assertFalse(\n",
    "            is_pangram('the quick brown fish jumps over the lazy dog'))\n",
    "\n",
    "    def test_missing_x(self):\n",
    "        self.assertFalse(is_pangram('a quick movement of the enemy will '\n",
    "                                    'jeopardize five gunboats'))\n",
    "\n",
    "    def test_mixedcase_and_punctuation(self):\n",
    "        self.assertTrue(is_pangram('\"Five quacking Zephyrs jolt my wax bed.\"'))\n",
    "\n",
    "    def test_unchecked_german_umlaute(self):\n",
    "        self.assertTrue(is_pangram('Victor jagt zwölf Boxkämpfer quer über den'\n",
    "                                   ' großen Sylter Deich.'))\n",
    "\n",
    "\n",
    "unittest.main(argv=[''], verbosity=2, exit=False)\n",
    "\n"
   ]
  },
  {
   "cell_type": "code",
   "execution_count": null,
   "id": "222d2d91",
   "metadata": {},
   "outputs": [],
   "source": [
    "import string\n",
    "\n",
    "def is_pangram1(text: str, alphabet=string.ascii_lowercase) -> bool:\n",
    "    \n",
    "    for char in set(alphabet):\n",
    "        if char not in text:\n",
    "            return False \n",
    "    else:\n",
    "        return True\n",
    "is_pangram1('\"Five quacking Zephyrs jolt my wax bed.\"')"
   ]
  },
  {
   "cell_type": "code",
   "execution_count": null,
   "id": "3c0eb4da",
   "metadata": {},
   "outputs": [],
   "source": []
  }
 ],
 "metadata": {
  "kernelspec": {
   "display_name": "Python 3",
   "language": "python",
   "name": "python3"
  },
  "language_info": {
   "codemirror_mode": {
    "name": "ipython",
    "version": 3
   },
   "file_extension": ".py",
   "mimetype": "text/x-python",
   "name": "python",
   "nbconvert_exporter": "python",
   "pygments_lexer": "ipython3",
   "version": "3.8.8"
  }
 },
 "nbformat": 4,
 "nbformat_minor": 5
}
